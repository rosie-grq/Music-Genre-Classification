{
 "cells": [
  {
   "cell_type": "code",
   "execution_count": 1,
   "metadata": {},
   "outputs": [],
   "source": [
    "import os\n",
    "import pandas as pd\n",
    "import numpy as np\n",
    "import matplotlib.pyplot as plt\n",
    "from numpy import savetxt\n",
    "import pickle\n",
    "from matplotlib import cm\n",
    "import pylab\n",
    "from PIL import Image\n",
    "from matplotlib.pyplot import imshow"
   ]
  },
  {
   "cell_type": "code",
   "execution_count": 2,
   "metadata": {},
   "outputs": [],
   "source": [
    "from sklearn.preprocessing import OneHotEncoder\n",
    "from sklearn.utils import shuffle\n",
    "from sklearn.metrics import confusion_matrix,classification_report,accuracy_score\n",
    "from sklearn.preprocessing import StandardScaler,LabelEncoder\n",
    "from sklearn.model_selection import train_test_split "
   ]
  },
  {
   "cell_type": "code",
   "execution_count": 3,
   "metadata": {},
   "outputs": [],
   "source": [
    "import keras\n",
    "from keras import layers, regularizers,optimizers,callbacks,applications\n",
    "from keras.models import Sequential\n",
    "from keras.utils import np_utils\n",
    "from keras.optimizers import SGD,Adam\n",
    "from keras.layers import Dropout,Conv2D,MaxPool2D\n",
    "from keras import models"
   ]
  },
  {
   "cell_type": "code",
   "execution_count": 4,
   "metadata": {},
   "outputs": [],
   "source": [
    "label_match=pd.read_csv('label_match.csv')\n",
    "label_match['code']=label_match.code.astype(str).str.zfill(8)\n",
    "label_match = dict(zip(label_match.code, label_match.label))"
   ]
  },
  {
   "cell_type": "code",
   "execution_count": 5,
   "metadata": {},
   "outputs": [],
   "source": [
    "img_dir =r'spec_images/spec_images/'\n",
    "IMG_HEIGHT = 216\n",
    "IMG_WIDTH = 216\n",
    "NUM_CLASSES = 8\n",
    "NUM_EPOCHS = 10\n",
    "BATCH_SIZE = 128\n",
    "L2_LAMBDA = 0.001"
   ]
  },
  {
   "cell_type": "code",
   "execution_count": 6,
   "metadata": {},
   "outputs": [],
   "source": [
    "all_files=[f for f in os.listdir(img_dir) if not f.startswith('.')]\n",
    "\n",
    "label_dict = {'Electronic':0,'Experimental':1,'Folk':2,'Hip-Hop':3,'Instrumental':4,\n",
    "              'International':5,'Pop':6,'Rock':7 }"
   ]
  },
  {
   "cell_type": "code",
   "execution_count": 7,
   "metadata": {},
   "outputs": [],
   "source": [
    "label_array = []\n",
    "for file_ in all_files:\n",
    "    if file_.endswith(\".jpg\"):\n",
    "        vals = file_[:-4]\n",
    "        lab=label_match[vals]\n",
    "        label_array.append(label_dict[lab])\n",
    "        \n",
    "label_array=np.array(label_array).reshape(-1, 1)\n",
    "one_hot = OneHotEncoder()"
   ]
  },
  {
   "cell_type": "code",
   "execution_count": 8,
   "metadata": {},
   "outputs": [],
   "source": [
    "train_files, test_files, train_labels, test_labels = train_test_split(all_files, \n",
    "                                                                      label_array,\n",
    "                                                                      random_state = 10, \n",
    "                                                                      test_size = 0.1)\n",
    "\n",
    "val_files, test_files, val_labels, test_labels = train_test_split(test_files, test_labels,\n",
    "                                                                  random_state = 10, \n",
    "                                                                  test_size = 0.5)"
   ]
  },
  {
   "cell_type": "code",
   "execution_count": 9,
   "metadata": {},
   "outputs": [],
   "source": [
    "train_files,train_labels=shuffle(train_files,train_labels)"
   ]
  },
  {
   "cell_type": "code",
   "execution_count": 10,
   "metadata": {},
   "outputs": [
    {
     "name": "stdout",
     "output_type": "stream",
     "text": [
      "Model: \"sequential\"\n",
      "_________________________________________________________________\n",
      "Layer (type)                 Output Shape              Param #   \n",
      "=================================================================\n",
      "flatten (Flatten)            (None, 139968)            0         \n",
      "_________________________________________________________________\n",
      "dense_1 (Dense)              (None, 512)               71664128  \n",
      "_________________________________________________________________\n",
      "dropout_1 (Dropout)          (None, 512)               0         \n",
      "_________________________________________________________________\n",
      "activation_1 (Activation)    (None, 512)               0         \n",
      "_________________________________________________________________\n",
      "dense_2 (Dense)              (None, 32)                16416     \n",
      "_________________________________________________________________\n",
      "dropout_2 (Dropout)          (None, 32)                0         \n",
      "_________________________________________________________________\n",
      "activation_2 (Activation)    (None, 32)                0         \n",
      "_________________________________________________________________\n",
      "dense_output (Dense)         (None, 8)                 264       \n",
      "=================================================================\n",
      "Total params: 71,680,808\n",
      "Trainable params: 71,680,808\n",
      "Non-trainable params: 0\n",
      "_________________________________________________________________\n"
     ]
    }
   ],
   "source": [
    "model = Sequential()\n",
    "model.add(layers.Flatten(input_shape=(IMG_WIDTH, IMG_HEIGHT, 3))) # Flatten output and send it to MLP # 3 channel - RGB\n",
    "\n",
    "model.add(layers.Dense(512, name='dense_1', kernel_regularizer=regularizers.l2(L2_LAMBDA)))\n",
    "model.add(layers.Dropout(rate=0.3, name='dropout_1')) # Can try varying dropout rates\n",
    "model.add(layers.Activation(activation='relu', name='activation_1'))\n",
    "\n",
    "model.add(layers.Dense(32, name='dense_2', kernel_regularizer=regularizers.l2(L2_LAMBDA)))\n",
    "model.add(layers.Dropout(rate=0.3, name='dropout_2')) # Can try varying dropout rates\n",
    "model.add(layers.Activation(activation='relu', name='activation_2'))\n",
    "\n",
    "model.add(layers.Dense(NUM_CLASSES, activation='softmax', name='dense_output'))\n",
    "model.summary()"
   ]
  },
  {
   "cell_type": "code",
   "execution_count": 11,
   "metadata": {},
   "outputs": [],
   "source": [
    "def load_batch(file_list):\n",
    "    img_array = []\n",
    "    idx_array = []\n",
    "    label_array = []\n",
    "\n",
    "    for file_ in file_list:\n",
    "        if file_.endswith(\".jpg\"):\n",
    "            im = Image.open(img_dir + file_)\n",
    "            im = im.resize((IMG_WIDTH, IMG_HEIGHT), Image.ANTIALIAS)\n",
    "            img_array.append(np.array(im))\n",
    "\n",
    "            vals = file_[:-4]\n",
    "            idx_array.append(vals)\n",
    "            lab=label_match[vals]\n",
    "            label_array.append(label_dict[lab])\n",
    "    \n",
    "    label_array=np.array(label_array).reshape(-1,1)\n",
    "    label_array = one_hot.fit_transform(label_array).toarray()\n",
    "    img_array = np.array(img_array)/255.0 # Normalize RGB\n",
    "    \n",
    "    return img_array, np.array(label_array), np.array(idx_array)"
   ]
  },
  {
   "cell_type": "code",
   "execution_count": 12,
   "metadata": {},
   "outputs": [],
   "source": [
    "def batch_generator(files, BATCH_SIZE):\n",
    "    L = len(files)\n",
    "\n",
    "    #this line is just to make the generator infinite, keras needs that    \n",
    "    while True:\n",
    "\n",
    "        batch_start = 0\n",
    "        batch_end = BATCH_SIZE\n",
    "\n",
    "        while batch_start < L:\n",
    "            \n",
    "            limit = min(batch_end, L)\n",
    "            file_list = files[batch_start: limit]\n",
    "            batch_img_array, batch_label_array, batch_idx_array = load_batch(file_list)\n",
    "            if batch_label_array.shape[1]==8: \n",
    "                yield (batch_img_array, batch_label_array) # a tuple with two numpy arrays with batch_size samples     \n",
    "\n",
    "            batch_start += BATCH_SIZE   \n",
    "            batch_end += BATCH_SIZE"
   ]
  },
  {
   "cell_type": "code",
   "execution_count": 13,
   "metadata": {},
   "outputs": [],
   "source": [
    "# Set optimizer, loss and metrics\n",
    "optimizer = optimizers.Adam(lr=1e-5)\n",
    "\n",
    "loss = 'categorical_crossentropy'\n",
    "\n",
    "metrics = ['categorical_accuracy']\n",
    "\n",
    "filepath=\"saved_models/feed_forward_baseline_epoch_{epoch:02d}_{val_categorical_accuracy:.4f}.h5\"\n",
    "checkpoint = callbacks.ModelCheckpoint(filepath, \n",
    "                                       monitor='val_categorical_accuracy', \n",
    "                                       verbose=0, \n",
    "                                       save_best_only=False)\n",
    "callbacks_list = [checkpoint]\n",
    "\n",
    "model.compile(optimizer=optimizer, loss=loss, metrics=metrics)"
   ]
  },
  {
   "cell_type": "code",
   "execution_count": 14,
   "metadata": {},
   "outputs": [
    {
     "name": "stdout",
     "output_type": "stream",
     "text": [
      "WARNING:tensorflow:From <ipython-input-14-65122ea7b480>:10: Model.fit_generator (from tensorflow.python.keras.engine.training) is deprecated and will be removed in a future version.\n",
      "Instructions for updating:\n",
      "Please use Model.fit, which supports generators.\n",
      "Epoch 1/10\n",
      "224/224 [==============================] - 283s 1s/step - loss: 3.0606 - categorical_accuracy: 0.1935 - val_loss: 2.9055 - val_categorical_accuracy: 0.2598\n",
      "Epoch 2/10\n",
      "224/224 [==============================] - 272s 1s/step - loss: 2.8693 - categorical_accuracy: 0.2510 - val_loss: 2.7543 - val_categorical_accuracy: 0.3053\n",
      "Epoch 3/10\n",
      "224/224 [==============================] - 274s 1s/step - loss: 2.7512 - categorical_accuracy: 0.2712 - val_loss: 2.6453 - val_categorical_accuracy: 0.3216\n",
      "Epoch 4/10\n",
      "224/224 [==============================] - 275s 1s/step - loss: 2.6627 - categorical_accuracy: 0.2810 - val_loss: 2.5890 - val_categorical_accuracy: 0.3132\n",
      "Epoch 5/10\n",
      "224/224 [==============================] - 275s 1s/step - loss: 2.5892 - categorical_accuracy: 0.2933 - val_loss: 2.5127 - val_categorical_accuracy: 0.3236\n",
      "Epoch 6/10\n",
      "224/224 [==============================] - 275s 1s/step - loss: 2.5182 - categorical_accuracy: 0.3006 - val_loss: 2.4269 - val_categorical_accuracy: 0.3398\n",
      "Epoch 7/10\n",
      "224/224 [==============================] - 276s 1s/step - loss: 2.4580 - categorical_accuracy: 0.3050 - val_loss: 2.3985 - val_categorical_accuracy: 0.3327\n",
      "Epoch 8/10\n",
      "224/224 [==============================] - 276s 1s/step - loss: 2.4016 - categorical_accuracy: 0.3111 - val_loss: 2.3238 - val_categorical_accuracy: 0.3457\n",
      "Epoch 9/10\n",
      "224/224 [==============================] - 275s 1s/step - loss: 2.3515 - categorical_accuracy: 0.3160 - val_loss: 2.2807 - val_categorical_accuracy: 0.3483\n",
      "Epoch 10/10\n",
      "224/224 [==============================] - 276s 1s/step - loss: 2.3037 - categorical_accuracy: 0.3241 - val_loss: 2.2452 - val_categorical_accuracy: 0.3574\n"
     ]
    }
   ],
   "source": [
    "STEPS_PER_EPOCH = len(train_files)//BATCH_SIZE\n",
    "val_steps = len(val_files)//BATCH_SIZE\n",
    "\n",
    "history = model.fit_generator(generator  = batch_generator(train_files, BATCH_SIZE),\n",
    "                              epochs     = NUM_EPOCHS,\n",
    "                              steps_per_epoch = STEPS_PER_EPOCH,\n",
    "                              #class_weight = cl_weight, # Check if providing class weight is useful\n",
    "                              validation_data = batch_generator(val_files, BATCH_SIZE), \n",
    "                              validation_steps = val_steps, \n",
    "                              callbacks = callbacks_list,\n",
    "                              )"
   ]
  },
  {
   "cell_type": "code",
   "execution_count": 15,
   "metadata": {},
   "outputs": [],
   "source": [
    "#Save scores on train and validation sets\n",
    "with open('pickle_files/feed_forward_baseline_history.pkl', 'wb') as f:\n",
    "    pickle.dump(history.history, f)"
   ]
  },
  {
   "cell_type": "code",
   "execution_count": 16,
   "metadata": {},
   "outputs": [
    {
     "name": "stdout",
     "output_type": "stream",
     "text": [
      "dict_keys(['loss', 'categorical_accuracy', 'val_loss', 'val_categorical_accuracy'])\n"
     ]
    }
   ],
   "source": [
    "# Load scores\n",
    "with open('pickle_files/feed_forward_baseline_history.pkl', 'rb') as f:\n",
    "    scores = pickle.load(f)\n",
    "print(scores.keys())\n",
    "scores = pd.DataFrame(scores, index=range(1,11))"
   ]
  },
  {
   "cell_type": "code",
   "execution_count": 17,
   "metadata": {},
   "outputs": [
    {
     "data": {
      "text/plain": [
       "<matplotlib.legend.Legend at 0x7ff0d377fb90>"
      ]
     },
     "execution_count": 17,
     "metadata": {},
     "output_type": "execute_result"
    },
    {
     "data": {
      "image/png": "[encoded data removed]",
      "text/plain": [
       "<Figure size 432x288 with 1 Axes>"
      ]
     },
     "metadata": {
      "needs_background": "light"
     },
     "output_type": "display_data"
    }
   ],
   "source": [
    "plt.xticks(range(1,11))\n",
    "plt.plot(scores['loss'], marker='o', label='training_loss')\n",
    "plt.plot(scores['val_loss'], marker='d', label='validation_loss')\n",
    "plt.ylabel('Loss', fontsize=12)\n",
    "plt.xlabel('Training Epochs', fontsize=12)\n",
    "plt.grid()\n",
    "plt.legend()"
   ]
  },
  {
   "cell_type": "code",
   "execution_count": 18,
   "metadata": {},
   "outputs": [
    {
     "data": {
      "text/plain": [
       "<matplotlib.legend.Legend at 0x7ff0d3656e10>"
      ]
     },
     "execution_count": 18,
     "metadata": {},
     "output_type": "execute_result"
    },
    {
     "data": {
      "image/png": "[encoded data removed]",
      "text/plain": [
       "<Figure size 432x288 with 1 Axes>"
      ]
     },
     "metadata": {
      "needs_background": "light"
     },
     "output_type": "display_data"
    }
   ],
   "source": [
    "plt.xticks(range(1,11))\n",
    "plt.plot(scores['categorical_accuracy'], marker='o', label='training_accuracy')\n",
    "plt.plot(scores['val_categorical_accuracy'], marker='d', label='validation_accuracy')\n",
    "plt.ylabel('Accuracy', fontsize=12)\n",
    "plt.xlabel('Training Epochs', fontsize=12)\n",
    "plt.grid()\n",
    "plt.legend()"
   ]
  },
  {
   "cell_type": "code",
   "execution_count": 20,
   "metadata": {},
   "outputs": [],
   "source": [
    "model = models.load_model('saved_models/feed_forward_baseline_epoch_10_0.3574.h5')"
   ]
  },
  {
   "cell_type": "code",
   "execution_count": 21,
   "metadata": {},
   "outputs": [
    {
     "name": "stdout",
     "output_type": "stream",
     "text": [
      "WARNING:tensorflow:From <ipython-input-21-206d60bcb526>:4: Model.predict_generator (from tensorflow.python.keras.engine.training) is deprecated and will be removed in a future version.\n",
      "Instructions for updating:\n",
      "Please use Model.predict, which supports generators.\n"
     ]
    }
   ],
   "source": [
    "# Make Prediction on Test set\n",
    "TEST_STEPS = len(test_files)//BATCH_SIZE\n",
    "pred_probs = model.predict_generator(generator = batch_generator(test_files, BATCH_SIZE), \n",
    "                                     steps=TEST_STEPS)\n",
    "pred = np.argmax(pred_probs, axis=-1)"
   ]
  },
  {
   "cell_type": "code",
   "execution_count": 24,
   "metadata": {},
   "outputs": [],
   "source": [
    "from sklearn.metrics import confusion_matrix, f1_score, accuracy_score, roc_auc_score, roc_curve, auc\n",
    "from scipy import interp\n",
    "import itertools\n",
    "from itertools import cycle\n",
    "def plot_confusion_matrix(cm, classes,\n",
    "                          normalize=False,\n",
    "                          title='Confusion matrix',\n",
    "                          cmap=plt.cm.Blues):\n",
    "    \"\"\"\n",
    "    This function prints and plots the confusion matrix.\n",
    "    Normalization can be applied by setting `normalize=True`.\n",
    "    \"\"\"\n",
    "    plt.imshow(cm, interpolation='nearest', cmap=cmap)\n",
    "    plt.title(title)\n",
    "    plt.colorbar()\n",
    "    tick_marks = np.arange(len(classes))\n",
    "    plt.xticks(tick_marks, classes, rotation=90)\n",
    "    plt.yticks(tick_marks, classes)\n",
    "\n",
    "    if normalize:\n",
    "        cm = cm.astype('float') / cm.sum(axis=1)[:, np.newaxis]\n",
    "        print(\"Normalized confusion matrix\")\n",
    "    else:\n",
    "        print('Confusion matrix, without normalization')\n",
    "\n",
    "    print(cm)\n",
    "\n",
    "    thresh = cm.max() / 2.\n",
    "    for i, j in itertools.product(range(cm.shape[0]), range(cm.shape[1])):\n",
    "        plt.text(j, i, cm[i, j],\n",
    "                 horizontalalignment=\"center\",\n",
    "                 color=\"white\" if cm[i, j] > thresh else \"black\")\n",
    "\n",
    "    plt.tight_layout()\n",
    "    plt.ylabel('True label')\n",
    "    plt.xlabel('Predicted label')\n",
    "    \n",
    "def one_hot_encoder(true_labels, num_records, num_classes):\n",
    "    temp = np.array(true_labels[:num_records])\n",
    "    true_labels = np.zeros((num_records, num_classes))\n",
    "    true_labels[np.arange(num_records), temp] = 1\n",
    "    return true_labels"
   ]
  },
  {
   "cell_type": "code",
   "execution_count": 25,
   "metadata": {},
   "outputs": [
    {
     "name": "stdout",
     "output_type": "stream",
     "text": [
      "Confusion matrix, without normalization\n",
      "[[ 38   6  22  87  12  11   8   8]\n",
      " [  9  31  48  32  25  22  11  16]\n",
      " [  2   8 127   9  25  12  12   9]\n",
      " [ 16   1  16 125   6  10  11   6]\n",
      " [  4   7  73  15  58  13  10  10]\n",
      " [  8   6  38  45  22  60  13   6]\n",
      " [ 10   6  38  29  17  22  26  36]\n",
      " [  5   9  38  21   3   8  13  86]]\n"
     ]
    },
    {
     "data": {
      "image/png": "[encoded data removed]",
      "text/plain": [
       "<Figure size 432x288 with 2 Axes>"
      ]
     },
     "metadata": {
      "needs_background": "light"
     },
     "output_type": "display_data"
    }
   ],
   "source": [
    "plot_confusion_matrix(confusion_matrix(y_true=test_labels[:len(pred)], y_pred=pred), classes=label_dict.keys())"
   ]
  },
  {
   "cell_type": "code",
   "execution_count": null,
   "metadata": {},
   "outputs": [],
   "source": []
  }
 ],
 "metadata": {
  "kernelspec": {
   "display_name": "Python 3",
   "language": "python",
   "name": "python3"
  },
  "language_info": {
   "codemirror_mode": {
    "name": "ipython",
    "version": 3
   },
   "file_extension": ".py",
   "mimetype": "text/x-python",
   "name": "python",
   "nbconvert_exporter": "python",
   "pygments_lexer": "ipython3",
   "version": "3.7.6"
  }
 },
 "nbformat": 4,
 "nbformat_minor": 2
}
