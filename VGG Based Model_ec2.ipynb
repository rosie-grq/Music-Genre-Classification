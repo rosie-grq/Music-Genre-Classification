{
 "cells": [
  {
   "cell_type": "code",
   "execution_count": 1,
   "metadata": {},
   "outputs": [],
   "source": [
    "import os\n",
    "import pandas as pd\n",
    "import numpy as np\n",
    "import matplotlib.pyplot as plt\n",
    "from numpy import savetxt\n",
    "import pickle\n",
    "from matplotlib import cm\n",
    "import pylab\n",
    "from PIL import Image\n",
    "from matplotlib.pyplot import imshow\n",
    "import boto3\n",
    "from botocore.handlers import disable_signing"
   ]
  },
  {
   "cell_type": "code",
   "execution_count": 2,
   "metadata": {},
   "outputs": [],
   "source": [
    "from sklearn.preprocessing import OneHotEncoder\n",
    "from sklearn.utils import shuffle\n",
    "from sklearn.metrics import confusion_matrix,classification_report,accuracy_score\n",
    "from sklearn.preprocessing import StandardScaler,LabelEncoder\n",
    "from sklearn.model_selection import train_test_split "
   ]
  },
  {
   "cell_type": "code",
   "execution_count": 3,
   "metadata": {},
   "outputs": [
    {
     "name": "stderr",
     "output_type": "stream",
     "text": [
      "Using TensorFlow backend.\n"
     ]
    },
    {
     "name": "stdout",
     "output_type": "stream",
     "text": [
      "WARNING:tensorflow:From /home/ubuntu/anaconda3/envs/tensorflow_p36/lib/python3.6/site-packages/tensorflow_core/__init__.py:1473: The name tf.estimator.inputs is deprecated. Please use tf.compat.v1.estimator.inputs instead.\n",
      "\n"
     ]
    }
   ],
   "source": [
    "import keras\n",
    "from keras import layers, regularizers,optimizers,callbacks,applications\n",
    "from keras.models import Sequential\n",
    "from keras.utils import np_utils\n",
    "from keras.optimizers import SGD,Adam\n",
    "from keras.layers import Dropout,Conv2D,MaxPool2D\n",
    "from keras import models\n",
    "from keras import backend as K\n",
    "import tensorflow as tf"
   ]
  },
  {
   "cell_type": "code",
   "execution_count": 4,
   "metadata": {},
   "outputs": [],
   "source": [
    "import s3fs\n",
    "\n",
    "fs = s3fs.S3FileSystem()\n",
    "folder_names=fs.ls('s3://musicclassification')\n",
    "file_names=[]\n",
    "for i in range(1,len(folder_names)):\n",
    "    file_names+=fs.ls(folder_names[i]) "
   ]
  },
  {
   "cell_type": "code",
   "execution_count": 5,
   "metadata": {},
   "outputs": [],
   "source": [
    "label_match=pd.read_csv('s3://musicclassification/label_match.csv')\n",
    "label_match['code']=label_match.code.astype(str).str.zfill(8)\n",
    "label_match = dict(zip(label_match.code, label_match.label))"
   ]
  },
  {
   "cell_type": "code",
   "execution_count": 6,
   "metadata": {},
   "outputs": [],
   "source": [
    "img_dir =r'spec_images/'\n",
    "IMG_HEIGHT = 216\n",
    "IMG_WIDTH = 216\n",
    "NUM_CLASSES = 8\n",
    "NUM_EPOCHS = 10\n",
    "BATCH_SIZE = 64\n",
    "L2_LAMBDA = 0.001"
   ]
  },
  {
   "cell_type": "code",
   "execution_count": 7,
   "metadata": {},
   "outputs": [],
   "source": [
    "label_dict = {'Electronic':0,'Experimental':1,'Folk':2,'Hip-Hop':3,'Instrumental':4,\n",
    "              'International':5,'Pop':6,'Rock':7 }"
   ]
  },
  {
   "cell_type": "code",
   "execution_count": 8,
   "metadata": {},
   "outputs": [],
   "source": [
    "label_array = []\n",
    "for file_ in file_names:\n",
    "    if file_.endswith(\".jpg\"):\n",
    "        vals = file_[-12:-4]\n",
    "        lab=label_match[vals]\n",
    "        label_array.append(label_dict[lab])\n",
    "        \n",
    "label_array=np.array(label_array).reshape(-1, 1)\n",
    "one_hot = OneHotEncoder()"
   ]
  },
  {
   "cell_type": "code",
   "execution_count": 9,
   "metadata": {},
   "outputs": [],
   "source": [
    "train_files, test_files, train_labels, test_labels = train_test_split(file_names, \n",
    "                                                                      label_array,\n",
    "                                                                      random_state = 10, \n",
    "                                                                      test_size = 0.1)\n",
    "\n",
    "val_files, test_files, val_labels, test_labels = train_test_split(test_files, test_labels,\n",
    "                                                                  random_state = 10, \n",
    "                                                                  test_size = 0.5)"
   ]
  },
  {
   "cell_type": "code",
   "execution_count": 10,
   "metadata": {},
   "outputs": [],
   "source": [
    "train_files,train_labels=shuffle(train_files,train_labels)"
   ]
  },
  {
   "cell_type": "code",
   "execution_count": 11,
   "metadata": {},
   "outputs": [
    {
     "name": "stdout",
     "output_type": "stream",
     "text": [
      "WARNING:tensorflow:From /home/ubuntu/anaconda3/envs/tensorflow_p36/lib/python3.6/site-packages/keras/backend/tensorflow_backend.py:74: The name tf.get_default_graph is deprecated. Please use tf.compat.v1.get_default_graph instead.\n",
      "\n",
      "WARNING:tensorflow:From /home/ubuntu/anaconda3/envs/tensorflow_p36/lib/python3.6/site-packages/keras/backend/tensorflow_backend.py:517: The name tf.placeholder is deprecated. Please use tf.compat.v1.placeholder instead.\n",
      "\n",
      "WARNING:tensorflow:From /home/ubuntu/anaconda3/envs/tensorflow_p36/lib/python3.6/site-packages/keras/backend/tensorflow_backend.py:4138: The name tf.random_uniform is deprecated. Please use tf.random.uniform instead.\n",
      "\n",
      "WARNING:tensorflow:From /home/ubuntu/anaconda3/envs/tensorflow_p36/lib/python3.6/site-packages/keras/backend/tensorflow_backend.py:3976: The name tf.nn.max_pool is deprecated. Please use tf.nn.max_pool2d instead.\n",
      "\n",
      "WARNING:tensorflow:From /home/ubuntu/anaconda3/envs/tensorflow_p36/lib/python3.6/site-packages/keras/backend/tensorflow_backend.py:174: The name tf.get_default_session is deprecated. Please use tf.compat.v1.get_default_session instead.\n",
      "\n",
      "WARNING:tensorflow:From /home/ubuntu/anaconda3/envs/tensorflow_p36/lib/python3.6/site-packages/keras/backend/tensorflow_backend.py:181: The name tf.ConfigProto is deprecated. Please use tf.compat.v1.ConfigProto instead.\n",
      "\n",
      "WARNING:tensorflow:From /home/ubuntu/anaconda3/envs/tensorflow_p36/lib/python3.6/site-packages/keras/backend/tensorflow_backend.py:186: The name tf.Session is deprecated. Please use tf.compat.v1.Session instead.\n",
      "\n",
      "WARNING:tensorflow:From /home/ubuntu/anaconda3/envs/tensorflow_p36/lib/python3.6/site-packages/keras/backend/tensorflow_backend.py:190: The name tf.global_variables is deprecated. Please use tf.compat.v1.global_variables instead.\n",
      "\n",
      "WARNING:tensorflow:From /home/ubuntu/anaconda3/envs/tensorflow_p36/lib/python3.6/site-packages/keras/backend/tensorflow_backend.py:199: The name tf.is_variable_initialized is deprecated. Please use tf.compat.v1.is_variable_initialized instead.\n",
      "\n",
      "WARNING:tensorflow:From /home/ubuntu/anaconda3/envs/tensorflow_p36/lib/python3.6/site-packages/keras/backend/tensorflow_backend.py:206: The name tf.variables_initializer is deprecated. Please use tf.compat.v1.variables_initializer instead.\n",
      "\n"
     ]
    }
   ],
   "source": [
    "conv_base = keras.applications.VGG16(include_top = False, \n",
    "                                            weights = 'imagenet', \n",
    "                                            input_shape = (IMG_WIDTH, IMG_HEIGHT, 3) # 3 channels - RGB\n",
    "                                           ) "
   ]
  },
  {
   "cell_type": "code",
   "execution_count": 12,
   "metadata": {},
   "outputs": [
    {
     "name": "stdout",
     "output_type": "stream",
     "text": [
      "WARNING:tensorflow:From /home/ubuntu/anaconda3/envs/tensorflow_p36/lib/python3.6/site-packages/keras/backend/tensorflow_backend.py:133: The name tf.placeholder_with_default is deprecated. Please use tf.compat.v1.placeholder_with_default instead.\n",
      "\n",
      "WARNING:tensorflow:From /home/ubuntu/anaconda3/envs/tensorflow_p36/lib/python3.6/site-packages/keras/backend/tensorflow_backend.py:3445: calling dropout (from tensorflow.python.ops.nn_ops) with keep_prob is deprecated and will be removed in a future version.\n",
      "Instructions for updating:\n",
      "Please use `rate` instead of `keep_prob`. Rate should be set to `rate = 1 - keep_prob`.\n",
      "_________________________________________________________________\n",
      "Layer (type)                 Output Shape              Param #   \n",
      "=================================================================\n",
      "vgg16 (Model)                (None, 6, 6, 512)         14714688  \n",
      "_________________________________________________________________\n",
      "flatten_1 (Flatten)          (None, 18432)             0         \n",
      "_________________________________________________________________\n",
      "dense_1 (Dense)              (None, 512)               9437696   \n",
      "_________________________________________________________________\n",
      "dropout_1 (Dropout)          (None, 512)               0         \n",
      "_________________________________________________________________\n",
      "activation_1 (Activation)    (None, 512)               0         \n",
      "_________________________________________________________________\n",
      "dense_output (Dense)         (None, 8)                 4104      \n",
      "=================================================================\n",
      "Total params: 24,156,488\n",
      "Trainable params: 24,156,488\n",
      "Non-trainable params: 0\n",
      "_________________________________________________________________\n"
     ]
    }
   ],
   "source": [
    "model = models.Sequential()\n",
    "model.add(conv_base)\n",
    "model.add(layers.Flatten()) # Flatten output and send it to MLP\n",
    "\n",
    "# 1-layer MLP with Dropout, BN \n",
    "model.add(layers.Dense(512, name='dense_1', kernel_regularizer=regularizers.l2(L2_LAMBDA)))\n",
    "model.add(layers.Dropout(rate=0.3, name='dropout_1')) # Can try varying dropout rates\n",
    "model.add(layers.Activation(activation='relu', name='activation_1'))\n",
    "\n",
    "model.add(layers.Dense(NUM_CLASSES, activation='softmax', name='dense_output'))\n",
    "model.summary()"
   ]
  },
  {
   "cell_type": "code",
   "execution_count": 13,
   "metadata": {},
   "outputs": [
    {
     "name": "stdout",
     "output_type": "stream",
     "text": [
      "_________________________________________________________________\n",
      "Layer (type)                 Output Shape              Param #   \n",
      "=================================================================\n",
      "vgg16 (Model)                (None, 6, 6, 512)         14714688  \n",
      "_________________________________________________________________\n",
      "flatten_1 (Flatten)          (None, 18432)             0         \n",
      "_________________________________________________________________\n",
      "dense_1 (Dense)              (None, 512)               9437696   \n",
      "_________________________________________________________________\n",
      "dropout_1 (Dropout)          (None, 512)               0         \n",
      "_________________________________________________________________\n",
      "activation_1 (Activation)    (None, 512)               0         \n",
      "_________________________________________________________________\n",
      "dense_output (Dense)         (None, 8)                 4104      \n",
      "=================================================================\n",
      "Total params: 24,156,488\n",
      "Trainable params: 9,441,800\n",
      "Non-trainable params: 14,714,688\n",
      "_________________________________________________________________\n"
     ]
    }
   ],
   "source": [
    "conv_base.trainable = False\n",
    "model.summary()"
   ]
  },
  {
   "cell_type": "code",
   "execution_count": 14,
   "metadata": {},
   "outputs": [],
   "source": [
    "def load_batch(file_list):\n",
    "    img_array = []\n",
    "    idx_array = []\n",
    "    label_array = []\n",
    "\n",
    "    for file_ in file_list:\n",
    "        if file_.endswith(\".jpg\"):\n",
    "            with fs.open(\"s3://\"+file_) as f:\n",
    "                im=Image.open(f)\n",
    "                im = im.resize((IMG_WIDTH, IMG_HEIGHT), Image.ANTIALIAS)\n",
    "                img_array.append(np.array(im))\n",
    "\n",
    "                vals = file_[-12:-4]\n",
    "                idx_array.append(vals)\n",
    "                lab=label_match[vals]\n",
    "                label_array.append(label_dict[lab])\n",
    "    \n",
    "    label_array=np.array(label_array).reshape(-1,1)\n",
    "    label_array = one_hot.fit_transform(label_array).toarray()\n",
    "    img_array = np.array(img_array)/255.0 # Normalize RGB\n",
    "    \n",
    "    return img_array, np.array(label_array), np.array(idx_array)"
   ]
  },
  {
   "cell_type": "code",
   "execution_count": 15,
   "metadata": {},
   "outputs": [],
   "source": [
    "def batch_generator(files, BATCH_SIZE):\n",
    "    L = len(files)\n",
    "\n",
    "    #this line is just to make the generator infinite, keras needs that    \n",
    "    while True:\n",
    "\n",
    "        batch_start = 0\n",
    "        batch_end = BATCH_SIZE\n",
    "\n",
    "        while batch_start < L:\n",
    "            \n",
    "            limit = min(batch_end, L)\n",
    "            file_list = files[batch_start: limit]\n",
    "            batch_img_array, batch_label_array, batch_idx_array = load_batch(file_list)\n",
    "            if batch_label_array.shape[1]==8: \n",
    "                yield (batch_img_array, batch_label_array) # a tuple with two numpy arrays with batch_size samples     \n",
    "\n",
    "            batch_start += BATCH_SIZE   \n",
    "            batch_end += BATCH_SIZE"
   ]
  },
  {
   "cell_type": "code",
   "execution_count": 16,
   "metadata": {},
   "outputs": [
    {
     "name": "stdout",
     "output_type": "stream",
     "text": [
      "WARNING:tensorflow:From /home/ubuntu/anaconda3/envs/tensorflow_p36/lib/python3.6/site-packages/keras/optimizers.py:790: The name tf.train.Optimizer is deprecated. Please use tf.compat.v1.train.Optimizer instead.\n",
      "\n",
      "WARNING:tensorflow:From /home/ubuntu/anaconda3/envs/tensorflow_p36/lib/python3.6/site-packages/keras/backend/tensorflow_backend.py:3295: The name tf.log is deprecated. Please use tf.math.log instead.\n",
      "\n"
     ]
    }
   ],
   "source": [
    "optimizer = optimizers.Adam(lr=1e-5)\n",
    "\n",
    "loss = 'categorical_crossentropy'\n",
    "\n",
    "metrics = ['categorical_accuracy']\n",
    "\n",
    "filepath=\"saved_models/transfer_learning_epoch_{epoch:02d}_{val_categorical_accuracy:.4f}.h5\"\n",
    "checkpoint = callbacks.ModelCheckpoint(filepath, \n",
    "                                       monitor='val_categorical_accuracy', \n",
    "                                       verbose=0, \n",
    "                                       save_best_only=False)\n",
    "callbacks_list = [checkpoint]\n",
    "\n",
    "model.compile(optimizer=optimizer, loss=loss, metrics=metrics)"
   ]
  },
  {
   "cell_type": "code",
   "execution_count": 15,
   "metadata": {},
   "outputs": [
    {
     "name": "stdout",
     "output_type": "stream",
     "text": [
      "WARNING:tensorflow:From /home/ubuntu/anaconda3/envs/tensorflow_p36/lib/python3.6/site-packages/tensorflow_core/python/ops/math_grad.py:1424: where (from tensorflow.python.ops.array_ops) is deprecated and will be removed in a future version.\n",
      "Instructions for updating:\n",
      "Use tf.where in 2.0, which has the same broadcast rule as np.where\n",
      "WARNING:tensorflow:From /home/ubuntu/anaconda3/envs/tensorflow_p36/lib/python3.6/site-packages/keras/backend/tensorflow_backend.py:986: The name tf.assign_add is deprecated. Please use tf.compat.v1.assign_add instead.\n",
      "\n",
      "WARNING:tensorflow:From /home/ubuntu/anaconda3/envs/tensorflow_p36/lib/python3.6/site-packages/keras/backend/tensorflow_backend.py:973: The name tf.assign is deprecated. Please use tf.compat.v1.assign instead.\n",
      "\n",
      "Epoch 1/10\n",
      "449/449 [==============================] - 1796s 4s/step - loss: 2.6284 - categorical_accuracy: 0.3546 - val_loss: 2.3947 - val_categorical_accuracy: 0.4206\n",
      "Epoch 2/10\n",
      "449/449 [==============================] - 1640s 4s/step - loss: 2.2696 - categorical_accuracy: 0.4455 - val_loss: 2.2161 - val_categorical_accuracy: 0.4463\n",
      "Epoch 3/10\n",
      "449/449 [==============================] - 1605s 4s/step - loss: 2.1056 - categorical_accuracy: 0.4667 - val_loss: 2.1051 - val_categorical_accuracy: 0.4606\n",
      "Epoch 4/10\n",
      "449/449 [==============================] - 1589s 4s/step - loss: 2.0000 - categorical_accuracy: 0.4874 - val_loss: 2.0339 - val_categorical_accuracy: 0.4736\n",
      "Epoch 5/10\n",
      "449/449 [==============================] - 1589s 4s/step - loss: 1.9241 - categorical_accuracy: 0.4988 - val_loss: 1.9859 - val_categorical_accuracy: 0.4827\n",
      "Epoch 6/10\n",
      "449/449 [==============================] - 1580s 4s/step - loss: 1.8653 - categorical_accuracy: 0.5091 - val_loss: 1.9376 - val_categorical_accuracy: 0.4932\n",
      "Epoch 7/10\n",
      "449/449 [==============================] - 1576s 4s/step - loss: 1.8182 - categorical_accuracy: 0.5198 - val_loss: 1.9090 - val_categorical_accuracy: 0.4893\n",
      "Epoch 8/10\n",
      "449/449 [==============================] - 1580s 4s/step - loss: 1.7787 - categorical_accuracy: 0.5266 - val_loss: 1.8838 - val_categorical_accuracy: 0.4990\n",
      "Epoch 9/10\n",
      "449/449 [==============================] - 1586s 4s/step - loss: 1.7412 - categorical_accuracy: 0.5370 - val_loss: 1.8579 - val_categorical_accuracy: 0.4971\n",
      "Epoch 10/10\n",
      "449/449 [==============================] - 1571s 3s/step - loss: 1.7077 - categorical_accuracy: 0.5458 - val_loss: 1.8381 - val_categorical_accuracy: 0.4990\n"
     ]
    }
   ],
   "source": [
    "STEPS_PER_EPOCH = len(train_files)//BATCH_SIZE\n",
    "VAL_STEPS = len(val_files)//BATCH_SIZE\n",
    "history = model.fit_generator(generator  = batch_generator(train_files, BATCH_SIZE),\n",
    "                              epochs     = NUM_EPOCHS,\n",
    "                              steps_per_epoch = STEPS_PER_EPOCH,\n",
    "                              validation_data = batch_generator(val_files, BATCH_SIZE), \n",
    "                              validation_steps = VAL_STEPS, \n",
    "                              callbacks = callbacks_list,\n",
    "                             )"
   ]
  },
  {
   "cell_type": "code",
   "execution_count": 16,
   "metadata": {},
   "outputs": [
    {
     "name": "stderr",
     "output_type": "stream",
     "text": [
      "/home/ubuntu/anaconda3/envs/tensorflow_p36/lib/python3.6/site-packages/keras/engine/saving.py:327: UserWarning: Error in loading the saved optimizer state. As a result, your model is starting with a freshly initialized optimizer.\n",
      "  warnings.warn('Error in loading the saved optimizer '\n"
     ]
    }
   ],
   "source": [
    "NUM_EPOCHS = 10\n",
    "BATCH_SIZE = 64\n",
    "L2_LAMBDA = 0.001\n",
    "model = models.Sequential()\n",
    "model.add(conv_base)\n",
    "model.add(layers.Flatten()) # Flatten output and send it to MLP\n",
    "\n",
    "# 1-layer MLP with Dropout, BN \n",
    "model.add(layers.Dense(512, name='dense_1', kernel_regularizer=regularizers.l2(L2_LAMBDA)))\n",
    "model.add(layers.Dropout(rate=0.2, name='dropout_1')) \n",
    "model.add(layers.Activation(activation='relu', name='activation_1'))\n",
    "\n",
    "model.add(layers.Dense(NUM_CLASSES, activation='softmax', name='dense_output'))\n",
    "conv_base.trainable = True\n",
    "optimizer = optimizers.Adam(lr=1e-5)\n",
    "\n",
    "tl_model = models.load_model(filepath='saved_models/transfer_learning_epoch_10_0.4990.h5') # 02 is epoch 3\n",
    "tl_model.weights[-4:] \n",
    "\n",
    "for i in range(1, len(model.layers)): # The first layer (index = 0) is the conv base\n",
    "    model.layers[i].set_weights(tl_model.layers[i].get_weights())\n",
    "    \n",
    "loss = 'categorical_crossentropy'\n",
    "\n",
    "metrics = ['categorical_accuracy']\n",
    "\n",
    "filepath=\"saved_models/fine_tuning_epoch_{epoch:02d}_{val_categorical_accuracy:.4f}.h5\"\n",
    "checkpoint = callbacks.ModelCheckpoint(filepath, \n",
    "                                       monitor='val_categorical_accuracy', \n",
    "                                       verbose=0, \n",
    "                                       save_best_only=False)\n",
    "callbacks_list = [checkpoint]\n",
    "\n",
    "model.compile(optimizer=optimizer, loss=loss, metrics=metrics)"
   ]
  },
  {
   "cell_type": "code",
   "execution_count": 17,
   "metadata": {},
   "outputs": [
    {
     "name": "stdout",
     "output_type": "stream",
     "text": [
      "Epoch 1/10\n",
      "449/449 [==============================] - 1638s 4s/step - loss: 1.6284 - categorical_accuracy: 0.5632 - val_loss: 1.7200 - val_categorical_accuracy: 0.5443\n",
      "Epoch 2/10\n",
      "449/449 [==============================] - 1587s 4s/step - loss: 1.4425 - categorical_accuracy: 0.6313 - val_loss: 1.6965 - val_categorical_accuracy: 0.5590\n",
      "Epoch 3/10\n",
      "449/449 [==============================] - 1581s 4s/step - loss: 1.2618 - categorical_accuracy: 0.6976 - val_loss: 1.7087 - val_categorical_accuracy: 0.5590\n",
      "Epoch 4/10\n",
      "449/449 [==============================] - 1579s 4s/step - loss: 1.0737 - categorical_accuracy: 0.7657 - val_loss: 1.8104 - val_categorical_accuracy: 0.5590\n",
      "Epoch 5/10\n",
      "449/449 [==============================] - 1590s 4s/step - loss: 0.9151 - categorical_accuracy: 0.8221 - val_loss: 1.8846 - val_categorical_accuracy: 0.5401\n",
      "Epoch 6/10\n",
      "449/449 [==============================] - 1618s 4s/step - loss: 0.8026 - categorical_accuracy: 0.8585 - val_loss: 2.0676 - val_categorical_accuracy: 0.5453\n",
      "Epoch 7/10\n",
      "449/449 [==============================] - 1617s 4s/step - loss: 0.7317 - categorical_accuracy: 0.8803 - val_loss: 2.2757 - val_categorical_accuracy: 0.5147\n",
      "Epoch 8/10\n",
      "449/449 [==============================] - 1622s 4s/step - loss: 0.6845 - categorical_accuracy: 0.8964 - val_loss: 2.3376 - val_categorical_accuracy: 0.5407\n",
      "Epoch 9/10\n",
      "449/449 [==============================] - 1617s 4s/step - loss: 0.6205 - categorical_accuracy: 0.9188 - val_loss: 2.2968 - val_categorical_accuracy: 0.5485\n",
      "Epoch 10/10\n",
      "449/449 [==============================] - 1612s 4s/step - loss: 0.5594 - categorical_accuracy: 0.9403 - val_loss: 2.3835 - val_categorical_accuracy: 0.5427\n"
     ]
    }
   ],
   "source": [
    "STEPS_PER_EPOCH = len(train_files)//BATCH_SIZE\n",
    "VAL_STEPS = len(val_files)//BATCH_SIZE\n",
    "history = model.fit_generator(generator  = batch_generator(train_files, BATCH_SIZE),\n",
    "                              epochs     = NUM_EPOCHS,\n",
    "                              steps_per_epoch = STEPS_PER_EPOCH,\n",
    "                              validation_data = batch_generator(val_files, BATCH_SIZE), \n",
    "                              validation_steps = VAL_STEPS, \n",
    "                              callbacks = callbacks_list,\n",
    "                             )"
   ]
  },
  {
   "cell_type": "code",
   "execution_count": 18,
   "metadata": {},
   "outputs": [],
   "source": [
    "#Save scores on train and validation sets\n",
    "with open('pickle_files/fine_tuning_history.pkl', 'wb') as f:\n",
    "    pickle.dump(history.history, f)"
   ]
  },
  {
   "cell_type": "code",
   "execution_count": 20,
   "metadata": {},
   "outputs": [],
   "source": [
    "# Load scores\n",
    "with open('pickle_files/fine_tuning_history.pkl', 'rb') as f:\n",
    "    scores = pickle.load(f)\n",
    "print(scores.keys())\n",
    "scores = pd.DataFrame(scores, index=range(1,11))"
   ]
  },
  {
   "cell_type": "code",
   "execution_count": 7,
   "metadata": {},
   "outputs": [
    {
     "data": {
      "text/plain": [
       "<matplotlib.legend.Legend at 0x7fba3aa48198>"
      ]
     },
     "execution_count": 7,
     "metadata": {},
     "output_type": "execute_result"
    },
    {
     "data": {
      "image/png": "[encoded data removed]",
      "text/plain": [
       "<Figure size 432x288 with 1 Axes>"
      ]
     },
     "metadata": {
      "needs_background": "light"
     },
     "output_type": "display_data"
    }
   ],
   "source": [
    "plt.xticks(range(1,11))\n",
    "plt.plot(scores['loss'], marker='o', label='training_loss')\n",
    "plt.plot(scores['val_loss'], marker='d', label='validation_loss')\n",
    "plt.ylabel('Loss', fontsize=12)\n",
    "plt.xlabel('Training Epochs', fontsize=12)\n",
    "plt.grid()\n",
    "plt.legend()"
   ]
  },
  {
   "cell_type": "code",
   "execution_count": 8,
   "metadata": {},
   "outputs": [
    {
     "data": {
      "text/plain": [
       "<matplotlib.legend.Legend at 0x7fba3a336240>"
      ]
     },
     "execution_count": 8,
     "metadata": {},
     "output_type": "execute_result"
    },
    {
     "data": {
      "image/png": "[encoded data removed]",
      "text/plain": [
       "<Figure size 432x288 with 1 Axes>"
      ]
     },
     "metadata": {
      "needs_background": "light"
     },
     "output_type": "display_data"
    }
   ],
   "source": [
    "plt.xticks(range(1,11))\n",
    "plt.plot(scores['categorical_accuracy'], marker='o', label='training_accuracy')\n",
    "plt.plot(scores['val_categorical_accuracy'], marker='d', label='validation_accuracy')\n",
    "plt.ylabel('Accuracy', fontsize=12)\n",
    "plt.xlabel('Training Epochs', fontsize=12)\n",
    "plt.grid()\n",
    "plt.legend()"
   ]
  },
  {
   "cell_type": "code",
   "execution_count": 21,
   "metadata": {},
   "outputs": [
    {
     "name": "stdout",
     "output_type": "stream",
     "text": [
      "WARNING:tensorflow:From /home/ubuntu/anaconda3/envs/tensorflow_p36/lib/python3.6/site-packages/tensorflow_core/python/ops/math_grad.py:1424: where (from tensorflow.python.ops.array_ops) is deprecated and will be removed in a future version.\n",
      "Instructions for updating:\n",
      "Use tf.where in 2.0, which has the same broadcast rule as np.where\n",
      "WARNING:tensorflow:From /home/ubuntu/anaconda3/envs/tensorflow_p36/lib/python3.6/site-packages/keras/backend/tensorflow_backend.py:986: The name tf.assign_add is deprecated. Please use tf.compat.v1.assign_add instead.\n",
      "\n",
      "WARNING:tensorflow:From /home/ubuntu/anaconda3/envs/tensorflow_p36/lib/python3.6/site-packages/keras/backend/tensorflow_backend.py:973: The name tf.assign is deprecated. Please use tf.compat.v1.assign instead.\n",
      "\n"
     ]
    }
   ],
   "source": [
    "model = models.load_model('saved_models/fine_tuning_epoch_02_0.5590.h5')"
   ]
  },
  {
   "cell_type": "code",
   "execution_count": 22,
   "metadata": {},
   "outputs": [],
   "source": [
    "# Make Prediction on Test set\n",
    "TEST_STEPS = len(test_files)//BATCH_SIZE\n",
    "pred_probs = model.predict_generator(generator = batch_generator(test_files, BATCH_SIZE), \n",
    "                                     steps=TEST_STEPS)\n",
    "pred = np.argmax(pred_probs, axis=-1)"
   ]
  },
  {
   "cell_type": "code",
   "execution_count": 24,
   "metadata": {},
   "outputs": [],
   "source": [
    "from sklearn.metrics import confusion_matrix, f1_score, accuracy_score, roc_auc_score, roc_curve, auc\n",
    "from scipy import interp\n",
    "import itertools\n",
    "from itertools import cycle\n",
    "def plot_confusion_matrix(cm, classes,\n",
    "                          normalize=False,\n",
    "                          title='Confusion matrix',\n",
    "                          cmap=plt.cm.Blues):\n",
    "    \"\"\"\n",
    "    This function prints and plots the confusion matrix.\n",
    "    Normalization can be applied by setting `normalize=True`.\n",
    "    \"\"\"\n",
    "    plt.imshow(cm, interpolation='nearest', cmap=cmap)\n",
    "    plt.title(title)\n",
    "    plt.colorbar()\n",
    "    tick_marks = np.arange(len(classes))\n",
    "    plt.xticks(tick_marks, classes, rotation=90)\n",
    "    plt.yticks(tick_marks, classes)\n",
    "\n",
    "    if normalize:\n",
    "        cm = cm.astype('float') / cm.sum(axis=1)[:, np.newaxis]\n",
    "        print(\"Normalized confusion matrix\")\n",
    "    else:\n",
    "        print('Confusion matrix, without normalization')\n",
    "\n",
    "    print(cm)\n",
    "\n",
    "    thresh = cm.max() / 2.\n",
    "    for i, j in itertools.product(range(cm.shape[0]), range(cm.shape[1])):\n",
    "        plt.text(j, i, cm[i, j],\n",
    "                 horizontalalignment=\"center\",\n",
    "                 color=\"white\" if cm[i, j] > thresh else \"black\")\n",
    "\n",
    "    plt.tight_layout()\n",
    "    plt.ylabel('True label')\n",
    "    plt.xlabel('Predicted label')\n",
    "    \n",
    "def one_hot_encoder(true_labels, num_records, num_classes):\n",
    "    temp = np.array(true_labels[:num_records])\n",
    "    true_labels = np.zeros((num_records, num_classes))\n",
    "    true_labels[np.arange(num_records), temp] = 1\n",
    "    return true_labels"
   ]
  },
  {
   "cell_type": "code",
   "execution_count": 25,
   "metadata": {},
   "outputs": [
    {
     "name": "stdout",
     "output_type": "stream",
     "text": [
      "Confusion matrix, without normalization\n",
      "[[133  17   4  16  17  10   8   2]\n",
      " [ 16  79  16  11  27  22   9  15]\n",
      " [  5   9 110   6  23  17   8  11]\n",
      " [ 21   7   2 151   5   6   3   1]\n",
      " [ 11  15  22   1 110  14   9   7]\n",
      " [ 23   6   9  10   9 112   8   5]\n",
      " [ 29  19  17  14  18  38  44  27]\n",
      " [  6   9  11   1  15   9  10 111]]\n"
     ]
    },
    {
     "data": {
      "image/png": "[encoded data removed]",
      "text/plain": [
       "<Figure size 432x288 with 2 Axes>"
      ]
     },
     "metadata": {
      "needs_background": "light"
     },
     "output_type": "display_data"
    }
   ],
   "source": [
    "plot_confusion_matrix(confusion_matrix(y_true=test_labels[:len(pred)], y_pred=pred), classes=label_dict.keys())"
   ]
  },
  {
   "cell_type": "code",
   "execution_count": 27,
   "metadata": {},
   "outputs": [
    {
     "data": {
      "text/plain": [
       "0.5533854166666666"
      ]
     },
     "execution_count": 27,
     "metadata": {},
     "output_type": "execute_result"
    }
   ],
   "source": [
    "accuracy_score(pred,test_labels[:len(pred)])"
   ]
  }
 ],
 "metadata": {
  "kernelspec": {
   "display_name": "Python 3",
   "language": "python",
   "name": "python3"
  },
  "language_info": {
   "codemirror_mode": {
    "name": "ipython",
    "version": 3
   },
   "file_extension": ".py",
   "mimetype": "text/x-python",
   "name": "python",
   "nbconvert_exporter": "python",
   "pygments_lexer": "ipython3",
   "version": "3.7.6"
  }
 },
 "nbformat": 4,
 "nbformat_minor": 2
}
